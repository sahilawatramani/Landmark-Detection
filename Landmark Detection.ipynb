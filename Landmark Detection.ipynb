{
 "cells": [
  {
   "cell_type": "code",
   "execution_count": 1,
   "id": "02fe182e",
   "metadata": {},
   "outputs": [
    {
     "name": "stdout",
     "output_type": "stream",
     "text": [
      "WARNING:tensorflow:From C:\\Users\\Victus\\anaconda3\\Lib\\site-packages\\keras\\src\\losses.py:2976: The name tf.losses.sparse_softmax_cross_entropy is deprecated. Please use tf.compat.v1.losses.sparse_softmax_cross_entropy instead.\n",
      "\n"
     ]
    },
    {
     "ename": "ModuleNotFoundError",
     "evalue": "No module named 'cv2'",
     "output_type": "error",
     "traceback": [
      "\u001b[1;31m---------------------------------------------------------------------------\u001b[0m",
      "\u001b[1;31mModuleNotFoundError\u001b[0m                       Traceback (most recent call last)",
      "Cell \u001b[1;32mIn[1], line 4\u001b[0m\n\u001b[0;32m      2\u001b[0m \u001b[38;5;28;01mimport\u001b[39;00m \u001b[38;5;21;01mpandas\u001b[39;00m \u001b[38;5;28;01mas\u001b[39;00m \u001b[38;5;21;01mpd\u001b[39;00m\n\u001b[0;32m      3\u001b[0m \u001b[38;5;28;01mimport\u001b[39;00m \u001b[38;5;21;01mkeras\u001b[39;00m\n\u001b[1;32m----> 4\u001b[0m \u001b[38;5;28;01mimport\u001b[39;00m \u001b[38;5;21;01mcv2\u001b[39;00m\n\u001b[0;32m      5\u001b[0m \u001b[38;5;28;01mfrom\u001b[39;00m \u001b[38;5;21;01mmatplotlib\u001b[39;00m \u001b[38;5;28;01mimport\u001b[39;00m pyplot \u001b[38;5;28;01mas\u001b[39;00m plt\n\u001b[0;32m      6\u001b[0m \u001b[38;5;28;01mimport\u001b[39;00m \u001b[38;5;21;01mos\u001b[39;00m\n",
      "\u001b[1;31mModuleNotFoundError\u001b[0m: No module named 'cv2'"
     ]
    }
   ],
   "source": [
    "import numpy as np\n",
    "import pandas as pd\n",
    "import keras\n",
    "import cv2\n",
    "from matplotlib import pyplot as plt\n",
    "import os\n",
    "import random\n",
    "from PIL import Image"
   ]
  },
  {
   "cell_type": "code",
   "execution_count": null,
   "id": "bdd4a8e6",
   "metadata": {},
   "outputs": [],
   "source": [
    "df=pd.read_csv(\"train.csv\")"
   ]
  },
  {
   "cell_type": "code",
   "execution_count": null,
   "id": "a92b9d99",
   "metadata": {},
   "outputs": [],
   "source": [
    "samples=20000\n",
    "df=df.loc[:samples:]\n",
    "num_classes=len(df[\"Landmark_id\"].unique())\n",
    "num_data=len(df)"
   ]
  },
  {
   "cell_type": "code",
   "execution_count": null,
   "id": "7d780461",
   "metadata": {},
   "outputs": [],
   "source": [
    "data=pd.DataFrame(df[\"landmark_id\"].value_counts())\n",
    "data.reset_index(inplace=True)\n",
    "data.columns=['index','landmark_id']\n",
    "data['landmark_id'].describe()\n",
    "plt.hist(data['landmark_id'],100,range=(0,5))\n",
    "data['landmark_id'].between(0,5).sum()\n"
   ]
  },
  {
   "cell_type": "code",
   "execution_count": null,
   "id": "da225b9b",
   "metadata": {},
   "outputs": [],
   "source": [
    "plt.hist(df[\"landmark_id\"],bins=df[\"landmark_id\"].unique())"
   ]
  },
  {
   "cell_type": "code",
   "execution_count": null,
   "id": "1727a447",
   "metadata": {},
   "outputs": [],
   "source": [
    "data.columns=['landmark_id','count']"
   ]
  },
  {
   "cell_type": "code",
   "execution_count": null,
   "id": "75f1f575",
   "metadata": {},
   "outputs": [],
   "source": [
    "data['count'].describe()"
   ]
  },
  {
   "cell_type": "code",
   "execution_count": null,
   "id": "3176d960",
   "metadata": {},
   "outputs": [],
   "source": [
    "plt.hist(data['count'],100,range=(0,944),label='test')"
   ]
  },
  {
   "cell_type": "code",
   "execution_count": null,
   "id": "5a15c67d",
   "metadata": {},
   "outputs": [],
   "source": [
    "from sklearn.preprocessing import LabelEncoder\n",
    "lencoder=LabelEncoder()\n",
    "lencoder.fit(df[\"landmark_id\"])"
   ]
  },
  {
   "cell_type": "code",
   "execution_count": null,
   "id": "b19fec25",
   "metadata": {},
   "outputs": [],
   "source": [
    "def encode_label(lbl):\n",
    "    return lencoder.transform(lbl)"
   ]
  },
  {
   "cell_type": "code",
   "execution_count": null,
   "id": "4f85489b",
   "metadata": {},
   "outputs": [],
   "source": [
    "def decode_label(lbl):\n",
    "    return lencoder.inverse_transform(lbl)"
   ]
  },
  {
   "cell_type": "code",
   "execution_count": null,
   "id": "b00afa9c",
   "metadata": {},
   "outputs": [],
   "source": [
    "def get_image_from_number(num):\n",
    "    fname,label=df.loc[num,:]\n",
    "    fname=fname+'.jpg'\n",
    "    f1=fname[0]\n",
    "    f2=fname[1]\n",
    "    f3=fname[2]\n",
    "    path=os.path.join(f1,f2,f3,fname)\n",
    "    im=cv2.read(path)\n",
    "    return im,label"
   ]
  },
  {
   "cell_type": "code",
   "execution_count": 1,
   "id": "d2d39d31",
   "metadata": {},
   "outputs": [
    {
     "ename": "SyntaxError",
     "evalue": "invalid syntax (4142211812.py, line 2)",
     "output_type": "error",
     "traceback": [
      "\u001b[1;36m  Cell \u001b[1;32mIn[1], line 2\u001b[1;36m\u001b[0m\n\u001b[1;33m    fig=plt.figure(figure=)\u001b[0m\n\u001b[1;37m                          ^\u001b[0m\n\u001b[1;31mSyntaxError\u001b[0m\u001b[1;31m:\u001b[0m invalid syntax\n"
     ]
    }
   ],
   "source": [
    "print(\"4 sample images from random classes\")\n",
    "fig=plt.figure(figure=(16,16))\n",
    "for i in range(1,5):\n",
    "    ri=random.choice(os.listdir(\"./0\\\\\"),k=3)\n",
    "    folder=base_path+'/'+r1[0]+'/'+ri[1]+'/'+ri[2]\n",
    "    random_img=random.choice(os.listdir(folder))\n",
    "    img=np.array(Image.open(folder+'/'+random_img))\n",
    "    fig.add_subplot(1,4,i)\n",
    "    plt.imshow(img)\n",
    "    plt.axis('off')\n",
    "    plot.show()"
   ]
  },
  {
   "cell_type": "code",
   "execution_count": 2,
   "id": "a1cdd9b8",
   "metadata": {},
   "outputs": [
    {
     "data": {
      "text/plain": [
       "()"
      ]
     },
     "execution_count": 2,
     "metadata": {},
     "output_type": "execute_result"
    }
   ],
   "source": [
    "from keras.applications.vgg19 import VGG19\n",
    "from keras.layers import *\n",
    "from keras import Sequential\n",
    "tf.compat.v1.disable_eager_execution()"
   ]
  },
  {
   "cell_type": "code",
   "execution_count": null,
   "id": "3cac3a79",
   "metadata": {},
   "outputs": [],
   "source": [
    "learning_rate=0.0001\n",
    "decay_speed=1e-6\n",
    "momentum=0.09\n",
    "loss_function=\"sparse_categorical_crossentropy\"\n",
    "source_model=VGG19(weights=None)\n",
    "drop_layer=Dropout(0.5)\n",
    "drop_layer2=Dropout(0.5)\n"
   ]
  },
  {
   "cell_type": "code",
   "execution_count": null,
   "id": "ea59bd99",
   "metadata": {},
   "outputs": [],
   "source": [
    "model=Sequential()\n",
    "for layer in source_model.layers[:-1]:\n",
    "    if layers==source_model.layers[-25]:\n",
    "        model.add(BatchNormalization())\n",
    "    model.add(layer)\n",
    "model.add(Dense)"
   ]
  },
  {
   "cell_type": "code",
   "execution_count": null,
   "id": "bd96aa88",
   "metadata": {},
   "outputs": [],
   "source": [
    "optim1=keras.optimizer_v1.RMSprop(lr=learning_rate)\n",
    "model.compile(optimizer=optim1,\n",
    "             loss=loss_function,\n",
    "             metrics=[\"accuracy\"])"
   ]
  },
  {
   "cell_type": "code",
   "execution_count": null,
   "id": "eec8e4d4",
   "metadata": {},
   "outputs": [],
   "source": [
    "def image_reshape(im,target_size):\n",
    "    return cv2.reshape(im,target_size)"
   ]
  },
  {
   "cell_type": "code",
   "execution_count": null,
   "id": "5b601f7d",
   "metadata": {},
   "outputs": [],
   "source": [
    "def get_batch(dataframe,start,batch_size):\n",
    "    image_array=[]\n",
    "    label_array=[]\n",
    "    \n",
    "    end_img=start+batch_size\n",
    "    if(end_img)>len(dataframe):\n",
    "        end_img=len(dataframe)\n",
    "    \n",
    "    for idx in range(start,end_img):\n",
    "        n=idx\n",
    "        im,label=get_image_from_number(n,dataframe)\n",
    "        im=image_reshape(im,(224,224))/255.0\n",
    "        image_array.append(im)\n",
    "        label_array.append(label)\n",
    "        \n",
    "    label_array=encode_label(label_array)\n",
    "    return np.array(image_array),np.array(label_array)\n",
    "    "
   ]
  },
  {
   "cell_type": "code",
   "execution_count": 3,
   "id": "959b177a",
   "metadata": {},
   "outputs": [
    {
     "ename": "NameError",
     "evalue": "name 'np' is not defined",
     "output_type": "error",
     "traceback": [
      "\u001b[1;31m---------------------------------------------------------------------------\u001b[0m",
      "\u001b[1;31mNameError\u001b[0m                                 Traceback (most recent call last)",
      "Cell \u001b[1;32mIn[3], line 6\u001b[0m\n\u001b[0;32m      3\u001b[0m weight_classes\u001b[38;5;241m=\u001b[39m\u001b[38;5;28;01mTrue\u001b[39;00m\n\u001b[0;32m      4\u001b[0m epochs\u001b[38;5;241m=\u001b[39m\u001b[38;5;241m1\u001b[39m\n\u001b[1;32m----> 6\u001b[0m train,val\u001b[38;5;241m=\u001b[39mnp\u001b[38;5;241m.\u001b[39msplit(df\u001b[38;5;241m.\u001b[39msample(frac\u001b[38;5;241m=\u001b[39m\u001b[38;5;241m1\u001b[39m),[\u001b[38;5;28mint\u001b[39m(\u001b[38;5;241m0.8\u001b[39m\u001b[38;5;241m*\u001b[39m\u001b[38;5;28mlen\u001b[39m(df))])\n\u001b[0;32m      7\u001b[0m \u001b[38;5;28mprint\u001b[39m(\u001b[38;5;28mlen\u001b[39m(train))\n\u001b[0;32m      8\u001b[0m \u001b[38;5;28mprint\u001b[39m(\u001b[38;5;28mlen\u001b[39m(val))\n",
      "\u001b[1;31mNameError\u001b[0m: name 'np' is not defined"
     ]
    }
   ],
   "source": [
    "batch_size=16\n",
    "epoch_shuffle=True\n",
    "weight_classes=True\n",
    "epochs=1\n",
    "\n",
    "train,val=np.split(df.sample(frac=1),[int(0.8*len(df))])\n",
    "print(len(train))\n",
    "print(len(val))"
   ]
  },
  {
   "cell_type": "code",
   "execution_count": null,
   "id": "5618dcb4",
   "metadata": {},
   "outputs": [],
   "source": [
    "for e in range(epochs):\n",
    "    print(\"Epoch :\" + str (e+1) + \"/\" + str(epochs))\n",
    "    if epoch_shuffle:\n",
    "        train = train.sample(frac = l)\n",
    "    for it in range(int(np.cell(len(train)/batch_size))):\n",
    "        X_train, y_train = get_batch(train, it*batch_size, batch_size)\n",
    "        \n",
    "        model.train_on_batch(X_train, y_train)\n",
    "model.save(\"Model\")"
   ]
  },
  {
   "cell_type": "code",
   "execution_count": 4,
   "id": "bf7b05f6",
   "metadata": {},
   "outputs": [
    {
     "ename": "SyntaxError",
     "evalue": "invalid syntax (1762879701.py, line 18)",
     "output_type": "error",
     "traceback": [
      "\u001b[1;36m  Cell \u001b[1;32mIn[4], line 18\u001b[1;36m\u001b[0m\n\u001b[1;33m    n = in(good_preds[0])\u001b[0m\n\u001b[1;37m        ^\u001b[0m\n\u001b[1;31mSyntaxError\u001b[0m\u001b[1;31m:\u001b[0m invalid syntax\n"
     ]
    }
   ],
   "source": [
    "batch_size=16\n",
    "errors=0\n",
    "good_preds=[]\n",
    "bad_pred=[]\n",
    "for it in range(int(np.ceil(len(val)/batch_size))):\n",
    "    X_val,y_train=get_batch(val,it*batch_size,batch_size)\n",
    "    \n",
    "    result=model.predict(X_val)\n",
    "    cla=np.argmax(result,axis-1)\n",
    "    for idx, res in enumerate(result):\n",
    "        if cla[idx] != y_val[idx]:\n",
    "            errors = errors+1\n",
    "            bad_preds.append([batch_size*it + idx], cla[idx], res[cla[idx]])\n",
    "        else:\n",
    "            good_preds.append([batch_size*it + idx], cla[idx], res[cla[idx]])\n",
    "            \n",
    "for i in range(1,6):\n",
    "    n = in(good_preds[0])\n",
    "    img, lbl = get_image_from_number(n, val)\n",
    "    img = cv2.cvtColor(img, cv2.COLOR_BGR2RGB)\n",
    "    plt.imshow(img)\n",
    "    \n",
    "            \n"
   ]
  },
  {
   "cell_type": "code",
   "execution_count": null,
   "id": "0dd353bb",
   "metadata": {},
   "outputs": [],
   "source": []
  }
 ],
 "metadata": {
  "kernelspec": {
   "display_name": "Python 3 (ipykernel)",
   "language": "python",
   "name": "python3"
  },
  "language_info": {
   "codemirror_mode": {
    "name": "ipython",
    "version": 3
   },
   "file_extension": ".py",
   "mimetype": "text/x-python",
   "name": "python",
   "nbconvert_exporter": "python",
   "pygments_lexer": "ipython3",
   "version": "3.11.5"
  }
 },
 "nbformat": 4,
 "nbformat_minor": 5
}
